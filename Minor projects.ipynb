{
 "cells": [
  {
   "cell_type": "code",
   "execution_count": 2,
   "id": "73f6b974-c3b1-4b94-8a51-6b53027da4c2",
   "metadata": {},
   "outputs": [
    {
     "name": "stdout",
     "output_type": "stream",
     "text": [
      "\t\t\t\t\t Welcome to the ATM \n"
     ]
    },
    {
     "name": "stdin",
     "output_type": "stream",
     "text": [
      "Enter the card number ABCDEFGHIJ\n"
     ]
    },
    {
     "name": "stdout",
     "output_type": "stream",
     "text": [
      "\t\t\t\t\t Welcome\n"
     ]
    },
    {
     "name": "stdin",
     "output_type": "stream",
     "text": [
      "Enter the PIN 1210\n"
     ]
    },
    {
     "name": "stdout",
     "output_type": "stream",
     "text": [
      "Enter the choice\n",
      "1. Check Balance\n",
      "2. Add Money\n"
     ]
    },
    {
     "name": "stdin",
     "output_type": "stream",
     "text": [
      "Enter your choice 1\n"
     ]
    },
    {
     "name": "stdout",
     "output_type": "stream",
     "text": [
      "5000\n"
     ]
    }
   ],
   "source": [
    "# minor project\n",
    "# real world virtual atm machine\n",
    "amount=5000\n",
    "pin=1210\n",
    "print(\"\\t\\t\\t\\t\\t Welcome to the ATM \")\n",
    "a=input(\"Enter the card number\")\n",
    "if len(a)==10:\n",
    "    print(\"\\t\\t\\t\\t\\t Welcome\")\n",
    "    if pin==int(input(\"Enter the PIN\")):\n",
    "        print(\"Enter the choice\")\n",
    "        print(\"1. Check Balance\")\n",
    "        print(\"2. Add Money\")\n",
    "        if 1==int(input(\"Enter your choice\")):\n",
    "                print(amount)\n",
    "        elif 2==int(input(\"Enter your choice\")):\n",
    "                add=int(input(\"Enter the amount of money to be added\"))\n",
    "                add+=amount\n",
    "                print(\"Your money has been successfully added\")\n",
    "                print(\"Total Amount =\" ,add)\n",
    "        else:\n",
    "                print(\"Enter a valid choice \")\n",
    "    else:\n",
    "        print(\"Enter the valid PIN\")\n",
    "else:\n",
    "    print(\"Enter a valid card number\")"
   ]
  },
  {
   "cell_type": "code",
   "execution_count": 5,
   "id": "2fdc9f70-5a3c-45ab-ba4b-2b3447aabdf5",
   "metadata": {},
   "outputs": [
    {
     "name": "stdin",
     "output_type": "stream",
     "text": [
      "Enter the first Operand 5\n",
      "Enter the second Operand 6\n",
      "Enter the Operator -\n"
     ]
    },
    {
     "name": "stdout",
     "output_type": "stream",
     "text": [
      "-1 Subtraction successfull\n"
     ]
    }
   ],
   "source": [
    "# Minor project \n",
    "# Calculator\n",
    "a=int(input(\"Enter the first Operand\"))\n",
    "b=int(input(\"Enter the second Operand\"))\n",
    "o=input(\"Enter the Operator\")\n",
    "if o==\"+\":\n",
    "    print(a+b,\"Addition successfull\")\n",
    "elif o==\"-\":\n",
    "    print(a-b,\"Subtraction successfull\")\n",
    "elif o==\"*\":\n",
    "    print(a*b,\"Multiplication successfull\")\n",
    "elif o==\"/\":\n",
    "    print(a/b,\"Divition successfull\")\n",
    "elif o==\"%\":\n",
    "    print(a%b,\"Modulus successfull\")\n",
    "else:\n",
    "    print(\"Enter a valid Operator\")"
   ]
  },
  {
   "cell_type": "code",
   "execution_count": 6,
   "id": "4d6489a6-9b39-442c-ab00-2e6c68d77902",
   "metadata": {},
   "outputs": [
    {
     "name": "stdout",
     "output_type": "stream",
     "text": [
      "\t\t\t\t\t BUS Ticket Fare Calculator\n"
     ]
    },
    {
     "name": "stdin",
     "output_type": "stream",
     "text": [
      "Enter the age of the passenger 5\n"
     ]
    },
    {
     "name": "stdout",
     "output_type": "stream",
     "text": [
      "\t\t\t\t\t 50% Discount\n",
      "Discounted Fare =  25.0\n"
     ]
    }
   ],
   "source": [
    "# Minor project \n",
    "# Bus Ticket Fare Calculator\n",
    "fare=50\n",
    "print(\"\\t\\t\\t\\t\\t BUS Ticket Fare Calculator\")\n",
    "age=int(input(\"Enter the age of the passenger\"))\n",
    "if age<=8:\n",
    "    print(\"\\t\\t\\t\\t\\t 50% Discount\")\n",
    "    print(\"Discounted Fare = \",fare-(50*50/100))\n",
    "elif age<=18:\n",
    "    print(\"\\t\\t\\t\\t\\t 25% Discount\")\n",
    "    print(\"Discounted Fare = \",fare-(25*50/100))\n",
    "else:\n",
    "    print(\"\\t\\t\\t\\t\\t 5% Discount\")\n",
    "    print(\"Discounted Fare = \",fare-(5*50/100))\n",
    "    "
   ]
  },
  {
   "cell_type": "code",
   "execution_count": 8,
   "id": "7e71f2ba-2475-4495-ae9e-e4bfeb88a710",
   "metadata": {},
   "outputs": [
    {
     "name": "stdin",
     "output_type": "stream",
     "text": [
      "Enter the mrks of the student 86\n"
     ]
    },
    {
     "name": "stdout",
     "output_type": "stream",
     "text": [
      "Grade A\n"
     ]
    }
   ],
   "source": [
    "# Minor project \n",
    "# Grade Calculator \n",
    "marks=int(input(\"Enter the marks of the student\"))\n",
    "if marks>85:\n",
    "    print(\"Grade A\")\n",
    "elif marks>70:\n",
    "    print(\"Grade B\")\n",
    "elif marks>55:\n",
    "    print(\"Grade C\")\n",
    "elif marks>40:\n",
    "    print(\"Grade D\")\n",
    "else:\n",
    "    print(\"Student must Reappear\")"
   ]
  },
  {
   "cell_type": "code",
   "execution_count": 12,
   "id": "7da3ceae-6dbd-4ea2-b146-8d2d363d4cb8",
   "metadata": {},
   "outputs": [
    {
     "name": "stdin",
     "output_type": "stream",
     "text": [
      "Enter the Age of the Candidate 5\n"
     ]
    },
    {
     "name": "stdout",
     "output_type": "stream",
     "text": [
      "\n",
      "Jao Bacha ghar pe POGO dekho\n"
     ]
    }
   ],
   "source": [
    "# Minor project \n",
    "# Age Checker\n",
    "age=int(input(\"Enter the Age of the Candidate\"))\n",
    "if age>18:\n",
    "    print(\"\\nCandidate is eligible to Vote,Drive,etc.\")\n",
    "else:\n",
    "    print(\"\\nJao Bacha ghar pe POGO dekho\")"
   ]
  },
  {
   "cell_type": "code",
   "execution_count": 34,
   "id": "4722c6dc-1cfe-4703-ae61-00e4896ded00",
   "metadata": {},
   "outputs": [
    {
     "name": "stdout",
     "output_type": "stream",
     "text": [
      "1.Add more Data\n",
      "2.Update Data\n",
      "3.Display Highest,Lowest & Average marks\n",
      "4.Display all the Data\n",
      "5.Exit\n"
     ]
    },
    {
     "name": "stdin",
     "output_type": "stream",
     "text": [
      "Enter your choice 5\n"
     ]
    }
   ],
   "source": [
    "#### Dictionary Minor Project\n",
    "students={'Ram':98,'Shyam':95,'Ghanshyam':92,'Balram':97,'Tukaram':91}\n",
    "print(\"1.Add more Data\")\n",
    "print(\"2.Update Data\")\n",
    "print(\"3.Display Highest,Lowest & Average marks\")\n",
    "print(\"4.Display all the Data\")\n",
    "print(\"5.Exit\")\n",
    "while(1):\n",
    "    a=int(input(\"Enter your choice\"))\n",
    "    if a==1:\n",
    "        sname=input(\"Enter the name of the student\")\n",
    "        smarks=int(input(\"Enter the marks of the students\"))\n",
    "        students.update({sname:smarks})\n",
    "        print(students)\n",
    "    elif a==2:\n",
    "        sname=input(\"Enter the name of the student to be updated\")\n",
    "        smarks=int(input(\"Enter the marks of the student\"))\n",
    "        students[sname]=smarks\n",
    "        print(students)\n",
    "    elif a==3:\n",
    "        sum=0\n",
    "        c=0\n",
    "        min=100\n",
    "        max=0\n",
    "        for i in students:\n",
    "            c+=1\n",
    "            if students[i]<min:\n",
    "                min=students[i]\n",
    "            if students[i]>max:\n",
    "                max=students[i]\n",
    "            sum+=students[i]\n",
    "        avg=sum/c\n",
    "        print(\"Highest marks = \",min)\n",
    "        print(\"Lowest marks = \",max)\n",
    "        print(\"Average marks = \",avg)\n",
    "    elif a==4:\n",
    "        for i in students:\n",
    "            print(i, \" : \",students[i])\n",
    "    elif a==5:\n",
    "        break\n",
    "    else:\n",
    "        print(\"Enter a valid choice\")\n",
    "            \n",
    "            \n"
   ]
  },
  {
   "cell_type": "code",
   "execution_count": 40,
   "id": "e5f11165-5cba-4859-95d7-b4c944330464",
   "metadata": {},
   "outputs": [
    {
     "name": "stdout",
     "output_type": "stream",
     "text": [
      "\t\t\t\t\t Welcome to the ATM \n"
     ]
    },
    {
     "name": "stdin",
     "output_type": "stream",
     "text": [
      "Enter the card number nhvg\n"
     ]
    },
    {
     "name": "stdout",
     "output_type": "stream",
     "text": [
      "Enter a valid card number\n"
     ]
    }
   ],
   "source": [
    "# minor project\n",
    "# real world virtual atm machine\n",
    "Amount=10000\n",
    "pin=1210\n",
    "print(\"\\t\\t\\t\\t\\t Welcome to the ATM \")\n",
    "a=input(\"Enter the card number\")\n",
    "if len(a)==10:\n",
    "    print(\"\\t\\t\\t\\t\\t Welcome\")\n",
    "    if pin==int(input(\"Enter the PIN\")):\n",
    "        print(\"Enter the choice\")\n",
    "        print(\"1. Check Balance\")\n",
    "        print(\"2. Add Money\")\n",
    "        if 1==int(input(\"Enter your choice\")):\n",
    "                print(Bank_Balance.amount)\n",
    "        elif 2==int(input(\"Enter your choice\")):\n",
    "                add=int(input(\"Enter the amount of money to be added\"))\n",
    "                add+=Bank_Balance.amount\n",
    "                print(\"Your money has been successfully added\")\n",
    "                print(\"Total Amount =\" ,add)\n",
    "        else:\n",
    "                print(\"Enter a valid choice \")\n",
    "    else:\n",
    "        print(\"Enter the valid PIN\")\n",
    "else:\n",
    "    print(\"Enter a valid card number\")"
   ]
  },
  {
   "cell_type": "code",
   "execution_count": null,
   "id": "8a72277f-fe35-4cc5-a76f-c209edba6c36",
   "metadata": {},
   "outputs": [],
   "source": []
  },
  {
   "cell_type": "code",
   "execution_count": null,
   "id": "ef6b98a7-46c0-4bf2-ad28-125614512272",
   "metadata": {},
   "outputs": [],
   "source": []
  }
 ],
 "metadata": {
  "kernelspec": {
   "display_name": "Python 3 (ipykernel)",
   "language": "python",
   "name": "python3"
  },
  "language_info": {
   "codemirror_mode": {
    "name": "ipython",
    "version": 3
   },
   "file_extension": ".py",
   "mimetype": "text/x-python",
   "name": "python",
   "nbconvert_exporter": "python",
   "pygments_lexer": "ipython3",
   "version": "3.13.5"
  }
 },
 "nbformat": 4,
 "nbformat_minor": 5
}
